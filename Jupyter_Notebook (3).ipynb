{
 "cells": [
  {
   "cell_type": "markdown",
   "metadata": {},
   "source": [
    "<center>\n",
    "    <img src=\"https://cf-courses-data.s3.us.cloud-object-storage.appdomain.cloud/IBMDeveloperSkillsNetwork-DS0105EN-SkillsNetwork/labs/Module2/images/SN_web_lightmode.png\" width=\"300\" alt=\"cognitiveclass.ai logo\">\n",
    "</center>\n"
   ]
  },
  {
   "cell_type": "markdown",
   "metadata": {},
   "source": [
    "<h1>My Jupyter Notebook Final work"
   ]
  },
  {
   "cell_type": "markdown",
   "metadata": {
    "tags": []
   },
   "source": [
    "Good afternoon colleagues, a pleasure to greet you, in this notebook I will write everything related to the course and what I have learned will be put into practice"
   ]
  },
  {
   "cell_type": "markdown",
   "metadata": {},
   "source": [
    "The best-known languages ​​of data science would be these:\n",
    "\n",
    "1. R\n",
    "2. Python\n",
    "3. SQL\n",
    "4. SCALA\n",
    "5. C++\n",
    "6. JAVA\n"
   ]
  },
  {
   "cell_type": "markdown",
   "metadata": {},
   "source": [
    "The best data science libraries are : (**here use points instead of list to try another list method**)\n",
    "\n",
    "* PANDA\n",
    "* NUMPY\n",
    "* TENSORFLOW\n",
    "* SCIPY\n",
    "* KERAS"
   ]
  },
  {
   "cell_type": "markdown",
   "metadata": {},
   "source": [
    "|data science tool|\n",
    "-------------------\n",
    "|R project|\n",
    "|Hadoop|\n",
    "|Python|\n",
    "|SAS|\n",
    "|Apache Spark|"
   ]
  },
  {
   "cell_type": "markdown",
   "metadata": {},
   "source": [
    "in the next cell we will do arithmetic"
   ]
  },
  {
   "cell_type": "code",
   "execution_count": 2,
   "metadata": {},
   "outputs": [
    {
     "data": {
      "text/plain": [
       "5510"
      ]
     },
     "execution_count": 2,
     "metadata": {},
     "output_type": "execute_result"
    }
   ],
   "source": [
    "22+56*98"
   ]
  },
  {
   "cell_type": "code",
   "execution_count": 17,
   "metadata": {},
   "outputs": [
    {
     "name": "stdin",
     "output_type": "stream",
     "text": [
      "ingrese la cantidad de minutos a convertir: 60\n"
     ]
    },
    {
     "name": "stdout",
     "output_type": "stream",
     "text": [
      "60 minutos es: 1.0 horas\n"
     ]
    }
   ],
   "source": [
    "#convertir minutos en horas\n",
    "minuto = int(input(\"ingrese la cantidad de minutos a convertir:\"))\n",
    "resultado = (minuto * 1) / 60\n",
    "print(minuto, \"minutos es:\",resultado,\"horas\")"
   ]
  },
  {
   "cell_type": "markdown",
   "metadata": {},
   "source": [
    "** objective**\n",
    "\n",
    "\n",
    "1. Create Markdown cells\n",
    "2. Create Add description\n",
    "3. Create Coding cells\n",
    "4. Display Results of code\n"
   ]
  },
  {
   "cell_type": "markdown",
   "metadata": {},
   "source": [
    "<h2>Daniel Martin Lemus De Aguinaga"
   ]
  },
  {
   "cell_type": "code",
   "execution_count": null,
   "metadata": {},
   "outputs": [],
   "source": []
  }
 ],
 "metadata": {
  "kernelspec": {
   "display_name": "Python",
   "language": "python",
   "name": "conda-env-python-py"
  },
  "language_info": {
   "codemirror_mode": {
    "name": "ipython",
    "version": 3
   },
   "file_extension": ".py",
   "mimetype": "text/x-python",
   "name": "python",
   "nbconvert_exporter": "python",
   "pygments_lexer": "ipython3",
   "version": "3.7.12"
  }
 },
 "nbformat": 4,
 "nbformat_minor": 4
}
